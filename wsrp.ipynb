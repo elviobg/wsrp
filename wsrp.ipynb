{
 "cells": [
  {
   "cell_type": "code",
   "execution_count": 1,
   "metadata": {},
   "outputs": [],
   "source": [
    "import matplotlib.pyplot as plt\n",
    "import networkx as nx\n",
    "import numpy as np\n",
    "from queue import deque\n",
    "import json\n",
    "import os"
   ]
  },
  {
   "cell_type": "code",
   "execution_count": 14,
   "metadata": {},
   "outputs": [],
   "source": [
    "def export_graph(theGraph, distances, path_dir):\n",
    "    data_graph = nx.json_graph.node_link_data(theGraph)\n",
    "    data_distances = distances.tolist()\n",
    "    data = {\n",
    "        'distances': data_distances,\n",
    "        'graph': data_graph\n",
    "    }\n",
    "\n",
    "    with open(path_dir, 'w+') as outfile:  \n",
    "        json.dump(data, outfile)\n",
    "\n",
    "def import_graph(path_dir):\n",
    "    with open(path_dir) as json_file:\n",
    "        data = json.load(json_file)\n",
    "        print(data['distances'])\n",
    "        #print(data['graph'])\n",
    "        graph = nx.json_graph.node_link_graph(data['graph'])\n",
    "        return graph, data['distances']"
   ]
  },
  {
   "cell_type": "code",
   "execution_count": 7,
   "metadata": {},
   "outputs": [],
   "source": [
    "def plot_graph(theGraph):\n",
    "    nx.draw(theGraph)\n",
    "    plt.subplot(121)\n",
    "    nx.draw(theGraph, with_labels=True)\n",
    "    plt.show()"
   ]
  },
  {
   "cell_type": "code",
   "execution_count": 12,
   "metadata": {},
   "outputs": [],
   "source": [
    "def mount_graph():\n",
    "    \n",
    "    theGraph = nx.DiGraph()\n",
    "    theGraph.add_node('pa1', id=1, local='A', time=1, team='pedreiro', build='A')\n",
    "    theGraph.add_node('pb1', id=2, local='B', time=1, team='pedreiro', build='B')\n",
    "    theGraph.add_node('pb2', id=3, local='B', time=1, team='pedreiro', build='B')\n",
    "\n",
    "    theGraph.add_node('ea1', id=4, local='A', time=1, team='encanador', build='A')\n",
    "    theGraph.add_node('ea2', id=5, local='A', time=1, team='encanador', build='A')\n",
    "    theGraph.add_node('eb1', id=6, local='B', time=1, team='encanador', build='B')\n",
    "    theGraph.add_node('eb2', id=7, local='B', time=1, team='encanador', build='B')\n",
    "    theGraph.add_node('eb3', id=8, local='B', time=1, team='encanador', build='B')\n",
    "\n",
    "    theGraph.add_node('la1', id=9, local='A', time=1, team='eletricista', build='A')\n",
    "    theGraph.add_node('la2', id=10, local='A', time=1, team='eletricista', build='A')\n",
    "    theGraph.add_node('lb1', id=11, local='B', time=1, team='eletricista', build='B')\n",
    "    theGraph.add_node('lb2', id=12, local='B', time=1, team='eletricista', build='B')\n",
    "    theGraph.add_node('lb3', id=13, local='B', time=1, team='eletricista', build='B')\n",
    "    \n",
    "    theGraph.add_edge('pa1','ea1')\n",
    "    theGraph.add_edge('pa1','ea2')\n",
    "    theGraph.add_edge('ea1','la1')\n",
    "    theGraph.add_edge('ea2','la2')\n",
    "\n",
    "    theGraph.add_edge('pb1','pb2')\n",
    "    theGraph.add_edge('pb1','eb1')\n",
    "    theGraph.add_edge('pb1','eb2')\n",
    "    theGraph.add_edge('pb2','eb3')\n",
    "    theGraph.add_edge('eb1','lb1')\n",
    "    theGraph.add_edge('eb2','lb2')\n",
    "    theGraph.add_edge('eb3','lb3')\n",
    "\n",
    "    distances = np.zeros((2,2), dtype=int)\n",
    "    distances[:] = 1\n",
    "\n",
    "    return theGraph, distances"
   ]
  },
  {
   "cell_type": "code",
   "execution_count": 15,
   "metadata": {},
   "outputs": [],
   "source": [
    "#train_csv = os.path.join(os.path.dirname(notebook_path), \"Datasets/train.csv\")\n",
    "theGraph, distances = mount_graph()\n",
    "export_graph(theGraph, distances, \"/home/elvio/github/wsrp/graphs/exemplo5.txt\")\n"
   ]
  },
  {
   "cell_type": "code",
   "execution_count": 21,
   "metadata": {},
   "outputs": [
    {
     "name": "stdout",
     "output_type": "stream",
     "text": [
      "[[1, 1], [1, 1]]\n"
     ]
    },
    {
     "data": {
      "image/png": "[encoded data removed]",
      "text/plain": [
       "<Figure size 432x288 with 1 Axes>"
      ]
     },
     "metadata": {},
     "output_type": "display_data"
    },
    {
     "name": "stdout",
     "output_type": "stream",
     "text": [
      "[[1, 1], [1, 1]]\n"
     ]
    }
   ],
   "source": [
    "def plot_graph(theGraph):\n",
    "    nx.draw(theGraph)\n",
    "    plt.subplot(121)\n",
    "    nx.draw(theGraph, with_labels=True)    \n",
    "    plt.show()\n",
    "\n",
    "theGraph, distances = import_graph(\"/home/elvio/github/wsrp/graphs/exemplo5.txt\")\n",
    "\n",
    "plot_graph(theGraph)\n",
    "print(distances)"
   ]
  },
  {
   "cell_type": "code",
   "execution_count": 25,
   "metadata": {},
   "outputs": [
    {
     "name": "stdout",
     "output_type": "stream",
     "text": [
      "['pa1', 'pb1', 'ea1', 'ea2', 'pb2', 'eb1', 'eb2', 'la1', 'la2', 'eb3', 'lb1', 'lb2', 'lb3']\n"
     ]
    }
   ],
   "source": [
    "def topological_sort(theGraph):\n",
    "    \n",
    "    topSort = []\n",
    "    q = deque() \n",
    "\n",
    "    for edge in theGraph.in_degree:\n",
    "        if edge[1] == 0:\n",
    "            q.appendleft(edge[0])\n",
    "    \n",
    "    while q:\n",
    "        node = q.pop()\n",
    "        topSort.append(node)\n",
    "        for adj in theGraph.adj[node]:\n",
    "            if adj not in q:\n",
    "                q.appendleft(adj)\n",
    "    \n",
    "    return topSort\n",
    "\n",
    "order = topological_sort(theGraph)\n",
    "print(order)"
   ]
  },
  {
   "cell_type": "code",
   "execution_count": 27,
   "metadata": {},
   "outputs": [],
   "source": [
    "def show_schedule(schedules):\n",
    "    print('ordenação topologica:')\n",
    "    print(order, '\\n')\n",
    "    print('matriz de schedules:')\n",
    "    \n",
    "    for i in range(len(schedules)):\n",
    "        print('dia:', i+1)\n",
    "        for activity in schedules[i]:\n",
    "            print('\\t', activity, theGraph.nodes[activity]['local'], theGraph.nodes[activity]['team'])"
   ]
  },
  {
   "cell_type": "code",
   "execution_count": 35,
   "metadata": {},
   "outputs": [
    {
     "name": "stdout",
     "output_type": "stream",
     "text": [
      "pedreiro {'working': False, 'traveling': False, 'local': ''}\n",
      "encanador {'working': False, 'traveling': False, 'local': ''}\n",
      "eletricista {'working': False, 'traveling': False, 'local': ''}\n"
     ]
    }
   ],
   "source": [
    "def generate_wsrp_matrix(theGraph, order):\n",
    "    \n",
    "    n_nodes = len(theGraph)\n",
    "    for i in range(n_nodes):\n",
    "        node = theGraph.nodes[order[i]] \n",
    "        node['scheduled'] = False\n",
    "        \n",
    "    teams = {}\n",
    "    for i in range(n_nodes):\n",
    "        teams.update({theGraph.nodes[order[i]]['team']: {'working': False, 'traveling':False, 'local':''}})\n",
    "        node = theGraph.nodes[order[i]]\n",
    "    \n",
    "    for team in teams:\n",
    "        print(team, teams[team])\n",
    "        \n",
    "    schedules = []\n",
    "    day = []\n",
    "    working = []\n",
    "    \n",
    "    for i in range(n_nodes):\n",
    "        #print('--------------------')\n",
    "        #print(theGraph.nodes[order[i]])\n",
    "        current_node = theGraph.nodes[order[i]]\n",
    "        if not current_node['scheduled']:\n",
    "            \n",
    "            teams_day = []\n",
    "            day.append(order[i])\n",
    "            teams_day.append(current_node['team'])\n",
    "            for j in range(i, n_nodes):\n",
    "                #print('\\t', order[j], theGraph.nodes[order[j]])\n",
    "                if theGraph.nodes[order[j]]['team'] not in teams_day and not theGraph.nodes[order[j]]['scheduled']:\n",
    "                    previous = theGraph.out_degree[order[j]]\n",
    "                    to_schedule = True\n",
    "                    #print('previous', previous)\n",
    "                    for previous in theGraph.pred[order[j]]:\n",
    "                        #print(theGraph.nodes[previous])\n",
    "                        if not theGraph.nodes[previous]['scheduled']:\n",
    "                            to_schedule = False\n",
    "                            break\n",
    "                    if to_schedule:\n",
    "                        #print('insere grafo:', order[j])\n",
    "                        #print(current_node['team'], theGraph.nodes[order[j]]['team'])\n",
    "                        day.append(order[j])\n",
    "                        teams_day.append(theGraph.nodes[order[j]]['team'])\n",
    "            #print(day)\n",
    "            for node in day:\n",
    "                theGraph.nodes[node]['scheduled'] = True\n",
    "\n",
    "            schedules.append(day)\n",
    "    return schedules\n",
    "\n",
    "schedules = generate_wsrp_matrix(theGraph, order)"
   ]
  },
  {
   "cell_type": "code",
   "execution_count": null,
   "metadata": {},
   "outputs": [],
   "source": []
  },
  {
   "cell_type": "code",
   "execution_count": null,
   "metadata": {},
   "outputs": [],
   "source": [
    "show_schedule(schedules)"
   ]
  }
 ],
 "metadata": {
  "kernelspec": {
   "display_name": "Python 3",
   "language": "python",
   "name": "python3"
  },
  "language_info": {
   "codemirror_mode": {
    "name": "ipython",
    "version": 3
   },
   "file_extension": ".py",
   "mimetype": "text/x-python",
   "name": "python",
   "nbconvert_exporter": "python",
   "pygments_lexer": "ipython3",
   "version": "3.7.0"
  }
 },
 "nbformat": 4,
 "nbformat_minor": 2
}
