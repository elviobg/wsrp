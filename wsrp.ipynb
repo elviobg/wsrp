{
 "cells": [
  {
   "cell_type": "code",
   "execution_count": 1,
   "metadata": {},
   "outputs": [],
   "source": [
    "import matplotlib.pyplot as plt\n",
    "import networkx as nx\n",
    "import numpy as np\n",
    "from queue import deque\n",
    "import json\n",
    "import os"
   ]
  },
  {
   "cell_type": "code",
   "execution_count": 2,
   "metadata": {},
   "outputs": [],
   "source": [
    "def export_graph(theGraph, distances, path_dir):\n",
    "    data_graph = nx.json_graph.node_link_data(theGraph)\n",
    "    data_distances = distances.tolist()\n",
    "    data = {\n",
    "        'distances': data_distances,\n",
    "        'graph': data_graph\n",
    "    }\n",
    "\n",
    "    with open(path_dir, 'w+') as outfile:  \n",
    "        json.dump(data, outfile)\n",
    "\n",
    "def import_graph(path_dir):\n",
    "    with open(path_dir) as json_file:\n",
    "        data = json.load(json_file)\n",
    "        print(data['distances'])\n",
    "        #print(data['graph'])\n",
    "        graph = nx.json_graph.node_link_graph(data['graph'])\n",
    "        return graph, data['distances']"
   ]
  },
  {
   "cell_type": "code",
   "execution_count": 3,
   "metadata": {},
   "outputs": [],
   "source": [
    "def plot_graph(theGraph):\n",
    "    nx.draw(theGraph)\n",
    "    plt.subplot(121)\n",
    "    nx.draw(theGraph, with_labels=True)\n",
    "    plt.show()"
   ]
  },
  {
   "cell_type": "code",
   "execution_count": 4,
   "metadata": {},
   "outputs": [],
   "source": [
    "def mount_graph():\n",
    "    \n",
    "    theGraph = nx.DiGraph()\n",
    "    theGraph.add_node('pa1', id=1, local='A', time=1, team='pedreiro', build='A')\n",
    "    theGraph.add_node('pb1', id=2, local='B', time=1, team='pedreiro', build='B')\n",
    "    theGraph.add_node('pb2', id=3, local='B', time=1, team='pedreiro', build='B')\n",
    "\n",
    "    theGraph.add_node('ea1', id=4, local='A', time=1, team='encanador', build='A')\n",
    "    theGraph.add_node('ea2', id=5, local='A', time=1, team='encanador', build='A')\n",
    "    theGraph.add_node('eb1', id=6, local='B', time=1, team='encanador', build='B')\n",
    "    theGraph.add_node('eb2', id=7, local='B', time=1, team='encanador', build='B')\n",
    "    theGraph.add_node('eb3', id=8, local='B', time=1, team='encanador', build='B')\n",
    "\n",
    "    theGraph.add_node('la1', id=9, local='A', time=1, team='eletricista', build='A')\n",
    "    theGraph.add_node('la2', id=10, local='A', time=1, team='eletricista', build='A')\n",
    "    theGraph.add_node('lb1', id=11, local='B', time=1, team='eletricista', build='B')\n",
    "    theGraph.add_node('lb2', id=12, local='B', time=1, team='eletricista', build='B')\n",
    "    theGraph.add_node('lb3', id=13, local='B', time=1, team='eletricista', build='B')\n",
    "    \n",
    "    theGraph.add_edge('pa1','ea1')\n",
    "    theGraph.add_edge('pa1','ea2')\n",
    "    theGraph.add_edge('ea1','la1')\n",
    "    theGraph.add_edge('ea2','la2')\n",
    "\n",
    "    theGraph.add_edge('pb1','pb2')\n",
    "    theGraph.add_edge('pb1','eb1')\n",
    "    theGraph.add_edge('pb1','eb2')\n",
    "    theGraph.add_edge('pb2','eb3')\n",
    "    theGraph.add_edge('eb1','lb1')\n",
    "    theGraph.add_edge('eb2','lb2')\n",
    "    theGraph.add_edge('eb3','lb3')\n",
    "\n",
    "    distances = np.zeros((2,2), dtype=int)\n",
    "    distances[:] = 1\n",
    "\n",
    "    return theGraph, distances"
   ]
  },
  {
   "cell_type": "code",
   "execution_count": 5,
   "metadata": {},
   "outputs": [],
   "source": [
    "#train_csv = os.path.join(os.path.dirname(notebook_path), \"Datasets/train.csv\")\n",
    "theGraph, distances = mount_graph()\n",
    "export_graph(theGraph, distances, \"/home/elvio/github/wsrp/graphs/exemplo5.txt\")\n"
   ]
  },
  {
   "cell_type": "code",
   "execution_count": 6,
   "metadata": {},
   "outputs": [
    {
     "name": "stdout",
     "output_type": "stream",
     "text": [
      "[[1, 1], [1, 1]]\n"
     ]
    },
    {
     "data": {
      "image/png": "[encoded data removed]",
      "text/plain": [
       "<Figure size 432x288 with 1 Axes>"
      ]
     },
     "metadata": {},
     "output_type": "display_data"
    },
    {
     "name": "stdout",
     "output_type": "stream",
     "text": [
      "[[1, 1], [1, 1]]\n"
     ]
    }
   ],
   "source": [
    "def plot_graph(theGraph):\n",
    "    nx.draw(theGraph)\n",
    "    plt.subplot(121)\n",
    "    nx.draw(theGraph, with_labels=True)    \n",
    "    plt.show()\n",
    "\n",
    "theGraph, distances = import_graph(\"/home/elvio/github/wsrp/graphs/exemplo5.txt\")\n",
    "\n",
    "plot_graph(theGraph)\n",
    "print(distances)"
   ]
  },
  {
   "cell_type": "code",
   "execution_count": 7,
   "metadata": {},
   "outputs": [
    {
     "name": "stdout",
     "output_type": "stream",
     "text": [
      "['pa1', 'pb1', 'ea1', 'ea2', 'pb2', 'eb1', 'eb2', 'la1', 'la2', 'eb3', 'lb1', 'lb2', 'lb3']\n"
     ]
    }
   ],
   "source": [
    "def topological_sort(theGraph):\n",
    "    \n",
    "    topSort = []\n",
    "    q = deque() \n",
    "\n",
    "    for edge in theGraph.in_degree:\n",
    "        if edge[1] == 0:\n",
    "            q.appendleft(edge[0])\n",
    "    \n",
    "    while q:\n",
    "        node = q.pop()\n",
    "        topSort.append(node)\n",
    "        for adj in theGraph.adj[node]:\n",
    "            if adj not in q:\n",
    "                q.appendleft(adj)\n",
    "    \n",
    "    return topSort\n",
    "\n",
    "order = topological_sort(theGraph)\n",
    "print(order)"
   ]
  },
  {
   "cell_type": "code",
   "execution_count": 8,
   "metadata": {},
   "outputs": [],
   "source": [
    "def show_schedule(schedules, order):\n",
    "    print('ordenação topologica:')\n",
    "    print(order, '\\n')\n",
    "    print('matriz de schedules:')\n",
    "    \n",
    "    for i in range(len(schedules)):\n",
    "        print('dia:', i+1)\n",
    "        for activity in schedules[i]:\n",
    "            if 'deslocamento' in activity:\n",
    "                print('\\t', activity)\n",
    "            else:\n",
    "                print('\\t', activity, theGraph.nodes[activity]['local'], theGraph.nodes[activity]['team'])"
   ]
  },
  {
   "cell_type": "code",
   "execution_count": 9,
   "metadata": {},
   "outputs": [
    {
     "name": "stdout",
     "output_type": "stream",
     "text": [
      "[[1, 1], [1, 1]]\n",
      "pedreiro {'quantity': 1, 'schedules': {}}\n",
      "encanador {'quantity': 1, 'schedules': {}}\n",
      "eletricista {'quantity': 1, 'schedules': {}}\n"
     ]
    }
   ],
   "source": [
    "def define_work_period(theGraph, pos, teams):\n",
    "    \n",
    "    current_node = theGraph.nodes[pos]\n",
    "    day = 0\n",
    "    previous_day = 0\n",
    "    for previous in theGraph.pred[pos]:\n",
    "        if not theGraph.nodes[previous]['scheduled']:\n",
    "            define_work_period(theGraph, previous)\n",
    "        previous_day = theGraph.nodes[previous]['time'] + theGraph.nodes[previous]['day']\n",
    "        if previous_day > day:\n",
    "            day = previous_day\n",
    "    team = teams[theGraph.nodes[pos]['team']]\n",
    "    #print('team:', theGraph.nodes[pos]['team'], team)\n",
    "    #print(team['schedules'], len(team['schedules']))\n",
    "    \n",
    "    #if len(team['schedules']) == 0:\n",
    "        #team['schedules'].update( {day : theGraph.nodes[pos]['local']})\n",
    "    previous_local = None\n",
    "    \n",
    "    if len(team['schedules']) > 0:\n",
    "        last = sorted(team['schedules'].keys())[-1]\n",
    "        #print('**********', last, team['schedules'][last])\n",
    "        if day in team['schedules']:\n",
    "            while day in team['schedules']:\n",
    "                scheduled = team['schedules'][day]\n",
    "                if 'deslocamento' not in scheduled:\n",
    "                    previous_local = theGraph.nodes[team['schedules'][day]]['local']\n",
    "                day += 1\n",
    "        elif last in team['schedules']:\n",
    "            previous_local = theGraph.nodes[team['schedules'][last]]['local']\n",
    "            day = last + 1\n",
    "\n",
    "        if previous_local != theGraph.nodes[pos]['local']:\n",
    "            #print('deslocamento', theGraph.nodes[pos]['team'], previous_local, theGraph.nodes[pos]['local'])\n",
    "            deslocamento = 'deslocamento: ' + theGraph.nodes[pos]['team'] +\" \"+ previous_local +\" -> \"+ theGraph.nodes[pos]['local']\n",
    "            \n",
    "            team['schedules'].update( {day : deslocamento})\n",
    "            day += 1\n",
    "    team['schedules'].update({day : pos})\n",
    "    #print(day)\n",
    "        \n",
    "    #if team['local'] != theGraph.nodes[pos]['team']:\n",
    "        #theGraph.nodes[pos]['local'] = team['local']\n",
    "        #day += 1\n",
    "    theGraph.nodes[pos]['day'] = day\n",
    "    theGraph.nodes[pos]['scheduled'] = True \n",
    "    \n",
    "    #print(theGraph.nodes[pos])\n",
    "    #team['schedules'].update( {day : theGraph.nodes[pos]['team']})\n",
    "    #print('----------------------')\n",
    "    return day\n",
    "    \n",
    "\n",
    "def generate_wsrp_matrix(theGraph, order):\n",
    "    n_nodes = len(theGraph)\n",
    "    teams = {}\n",
    "    for i in range(n_nodes):\n",
    "        node = theGraph.nodes[order[i]] \n",
    "        teams.update({node['team']: {'quantity': 1, 'schedules':{}}})\n",
    "        node['scheduled'] = False\n",
    "        node['day'] = 0\n",
    "\n",
    "    for team in teams:\n",
    "        print(team, teams[team])\n",
    "        \n",
    "    #schedules = []\n",
    "    #day = []\n",
    "    #working = []\n",
    "    day = 0\n",
    "    for i in range(n_nodes):\n",
    "        #print('--------------------')\n",
    "        #print(theGraph.nodes[order[i]])\n",
    "        day = define_work_period(theGraph, order[i], teams)\n",
    "    \n",
    "    return day, teams\n",
    "\n",
    "\n",
    "theGraph, distances = import_graph(\"/home/elvio/github/wsrp/graphs/exemplo5.txt\")\n",
    "days, teams = generate_wsrp_matrix(theGraph, order)\n",
    "\n"
   ]
  },
  {
   "cell_type": "code",
   "execution_count": 10,
   "metadata": {},
   "outputs": [
    {
     "name": "stdout",
     "output_type": "stream",
     "text": [
      "ordenação topologica:\n",
      "['pa1', 'pb1', 'ea1', 'ea2', 'pb2', 'eb1', 'eb2', 'la1', 'la2', 'eb3', 'lb1', 'lb2', 'lb3'] \n",
      "\n",
      "matriz de schedules:\n",
      "dia: 1\n",
      "\t pa1 A pedreiro\n",
      "dia: 2\n",
      "\t deslocamento: pedreiro A -> B\n",
      "\t ea1 A encanador\n",
      "dia: 3\n",
      "\t pb1 B pedreiro\n",
      "\t ea2 A encanador\n",
      "\t la1 A eletricista\n",
      "dia: 4\n",
      "\t pb2 B pedreiro\n",
      "\t deslocamento: encanador A -> B\n",
      "\t la2 A eletricista\n",
      "dia: 5\n",
      "\t eb1 B encanador\n",
      "\t deslocamento: eletricista A -> B\n",
      "dia: 6\n",
      "\t eb2 B encanador\n",
      "\t lb1 B eletricista\n",
      "dia: 7\n",
      "\t eb3 B encanador\n",
      "\t lb2 B eletricista\n",
      "dia: 8\n",
      "\t lb3 B eletricista\n"
     ]
    }
   ],
   "source": [
    "def mount_schedules(theGraph, teams, days):\n",
    "    schedules = []\n",
    "    n_nodes = len(theGraph)\n",
    "\n",
    "    for i in range(n_nodes):\n",
    "        node = theGraph.nodes[order[i]]\n",
    "        #print(order[i], node)\n",
    "        day = []\n",
    "    \n",
    "        for team in teams:\n",
    "            #print(teams[team]['schedules'])\n",
    "            if i in teams[team]['schedules']:\n",
    "                day.append(teams[team]['schedules'][i])\n",
    "        if day:\n",
    "            schedules.append(day)\n",
    "    #print(schedules)\n",
    "    return schedules\n",
    "\n",
    "schedules = mount_schedules(theGraph, teams, days)\n",
    "show_schedule(schedules, order)"
   ]
  },
  {
   "cell_type": "code",
   "execution_count": null,
   "metadata": {},
   "outputs": [],
   "source": []
  }
 ],
 "metadata": {
  "kernelspec": {
   "display_name": "Python 3",
   "language": "python",
   "name": "python3"
  },
  "language_info": {
   "codemirror_mode": {
    "name": "ipython",
    "version": 3
   },
   "file_extension": ".py",
   "mimetype": "text/x-python",
   "name": "python",
   "nbconvert_exporter": "python",
   "pygments_lexer": "ipython3",
   "version": "3.7.0"
  }
 },
 "nbformat": 4,
 "nbformat_minor": 2
}
